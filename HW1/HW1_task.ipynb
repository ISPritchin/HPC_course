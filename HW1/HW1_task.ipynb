{
 "cells": [
  {
   "cell_type": "markdown",
   "id": "fd38da4b-c1a0-435c-b4ef-f53409aa1b55",
   "metadata": {},
   "source": [
    "## Hometask 1 - связь Python с программами на C/C++"
   ]
  },
  {
   "cell_type": "markdown",
   "id": "b732f8c0-2e02-4e65-8e77-393d973d1542",
   "metadata": {},
   "source": [
    "1. Реализовать на языке C/C++ классические операции перемножения квадратных матриц и умножения матрицы на вектор (15%)\n",
    "\n",
    "Решение: см. код в текушей директории:\n",
    "- файл `matrix_operations` - с операциями над матрицами\n",
    "- файлы `main_matrix_multiply`, `main_matrix_vector_multiply` - с `main` функциями для экспериментов."
   ]
  },
  {
   "cell_type": "markdown",
   "id": "f4433714-9fea-4011-b476-133bb0703bdb",
   "metadata": {},
   "source": [
    "2. Разделить программу на несколько модулей и провести сборку через статическую линковку (25%)"
   ]
  },
  {
   "cell_type": "code",
   "execution_count": 5,
   "id": "b563e47a-d118-4508-b8da-9ba28276c86f",
   "metadata": {
    "ExecuteTime": {
     "end_time": "2024-10-21T07:22:39.154150Z",
     "start_time": "2024-10-21T07:22:37.629919Z"
    }
   },
   "outputs": [],
   "source": [
    "! gcc -c -g matrix_operations.c\n",
    "! gcc -c -g main_matrix_multiply.c\n",
    "! gcc matrix_operations.o main_matrix_multiply.o -o main_matrix_multiply_program_g\n",
    "\n",
    "! gcc -c -O3 matrix_operations.c\n",
    "! gcc -c -O3 main_matrix_multiply.c\n",
    "! gcc matrix_operations.o main_matrix_multiply.o -o main_matrix_multiply_program_O3"
   ]
  },
  {
   "cell_type": "code",
   "execution_count": 6,
   "outputs": [],
   "source": [
    "! gcc -c -g matrix_operations.c\n",
    "! gcc -c -g main_matrix_vector_multiply.c\n",
    "! gcc matrix_operations.o main_matrix_vector_multiply.o -o main_matrix_vector_multiply_program_g\n",
    "\n",
    "! gcc -c -O3 matrix_operations.c\n",
    "! gcc -c -O3 main_matrix_vector_multiply.c\n",
    "! gcc matrix_operations.o main_matrix_vector_multiply.o -o main_matrix_vector_multiply_program_O3"
   ],
   "metadata": {
    "collapsed": false,
    "ExecuteTime": {
     "end_time": "2024-10-21T07:22:40.149475Z",
     "start_time": "2024-10-21T07:22:39.147528Z"
    }
   },
   "id": "823bfb874683e0cc"
  },
  {
   "cell_type": "markdown",
   "id": "2147d411-a7d9-437b-9571-b8bf0247581d",
   "metadata": {},
   "source": [
    "3. Подготовьте две сборки с флагами -g и -O3 и измерьте времена выполнения операций с N = 512, 1024, . . ., 4096 (20%).\n",
    "\n",
    "При данных $N$ машина считает довольно медленно. Уменьшил величины проверяемых значений."
   ]
  },
  {
   "cell_type": "code",
   "execution_count": 12,
   "outputs": [
    {
     "data": {
      "text/plain": "                                       64        128       256       512   \\\nУмножение матриц (-g)              0.005413  0.013333  0.079339  0.607887   \nУмножение матриц (-O3)             0.004153  0.005167  0.023636  0.197036   \nУмножение матрицы на вектор (-g)   0.004011  0.002818  0.003560  0.004528   \nУмножение матрицы на вектор (-O3)  0.003551  0.002710  0.003362  0.003546   \n\n                                       1024  \nУмножение матриц (-g)              5.653850  \nУмножение матриц (-O3)             1.756253  \nУмножение матрицы на вектор (-g)   0.009585  \nУмножение матрицы на вектор (-O3)  0.005921  ",
      "text/html": "<div>\n<style scoped>\n    .dataframe tbody tr th:only-of-type {\n        vertical-align: middle;\n    }\n\n    .dataframe tbody tr th {\n        vertical-align: top;\n    }\n\n    .dataframe thead th {\n        text-align: right;\n    }\n</style>\n<table border=\"1\" class=\"dataframe\">\n  <thead>\n    <tr style=\"text-align: right;\">\n      <th></th>\n      <th>64</th>\n      <th>128</th>\n      <th>256</th>\n      <th>512</th>\n      <th>1024</th>\n    </tr>\n  </thead>\n  <tbody>\n    <tr>\n      <th>Умножение матриц (-g)</th>\n      <td>0.005413</td>\n      <td>0.013333</td>\n      <td>0.079339</td>\n      <td>0.607887</td>\n      <td>5.653850</td>\n    </tr>\n    <tr>\n      <th>Умножение матриц (-O3)</th>\n      <td>0.004153</td>\n      <td>0.005167</td>\n      <td>0.023636</td>\n      <td>0.197036</td>\n      <td>1.756253</td>\n    </tr>\n    <tr>\n      <th>Умножение матрицы на вектор (-g)</th>\n      <td>0.004011</td>\n      <td>0.002818</td>\n      <td>0.003560</td>\n      <td>0.004528</td>\n      <td>0.009585</td>\n    </tr>\n    <tr>\n      <th>Умножение матрицы на вектор (-O3)</th>\n      <td>0.003551</td>\n      <td>0.002710</td>\n      <td>0.003362</td>\n      <td>0.003546</td>\n      <td>0.005921</td>\n    </tr>\n  </tbody>\n</table>\n</div>"
     },
     "execution_count": 12,
     "metadata": {},
     "output_type": "execute_result"
    }
   ],
   "source": [
    "import numpy as np\n",
    "import os\n",
    "import pandas as pd\n",
    "import subprocess\n",
    "\n",
    "from pathlib import Path\n",
    "\n",
    "\n",
    "root = Path(os.getcwd())\n",
    "def run_program(program_name, N):\n",
    "    subprocess.run([str(root / program_name), str(N)])\n",
    "\n",
    "\n",
    "programs = {\n",
    "    'Умножение матриц (-g)': 'main_matrix_multiply_program_g',\n",
    "    'Умножение матриц (-O3)': 'main_matrix_multiply_program_O3',\n",
    "    'Умножение матрицы на вектор (-g)': 'main_matrix_vector_multiply_program_g',\n",
    "    'Умножение матрицы на вектор (-O3)': 'main_matrix_vector_multiply_program_O3',\n",
    "}\n",
    "\n",
    "res_c = pd.DataFrame(index=programs.keys())\n",
    "n_elements = [2**i for i in range(6, 11)]\n",
    "for n_element in n_elements:\n",
    "    res_c[n_element] = np.nan\n",
    "    for experiment_name, program_name in programs.items():\n",
    "        sum_time = 0\n",
    "        n_repeat = 4\n",
    "        for i_repeat in range(n_repeat):\n",
    "            start = time.perf_counter()\n",
    "            run_program(program_name, n_element)\n",
    "            end = time.perf_counter()\n",
    "            sum_time += end - start\n",
    "        res_c.loc[experiment_name, n_element] = sum_time / n_repeat\n",
    "        \n",
    "res_c"
   ],
   "metadata": {
    "collapsed": false,
    "ExecuteTime": {
     "end_time": "2024-10-21T07:30:11.114876Z",
     "start_time": "2024-10-21T07:29:37.537213Z"
    }
   },
   "id": "584806ceeccf1622"
  },
  {
   "cell_type": "markdown",
   "id": "7c234d8a-dc1b-48c8-b038-b4c61725cb51",
   "metadata": {},
   "source": [
    "4. Выполните вызов процедуры из Python через Ctypes/Cython/PyBind11 и измерьте времена (40%)"
   ]
  },
  {
   "cell_type": "markdown",
   "source": [
    "Получилось реализовать только Ctypes:"
   ],
   "metadata": {
    "collapsed": false
   },
   "id": "c723b0fba6cf8fa1"
  },
  {
   "cell_type": "code",
   "execution_count": 8,
   "outputs": [],
   "source": [
    "!gcc -O3 -shared matrix_operations.o -o matrix_operations.so"
   ],
   "metadata": {
    "collapsed": false,
    "ExecuteTime": {
     "end_time": "2024-10-21T07:23:14.877442Z",
     "start_time": "2024-10-21T07:23:14.651118Z"
    }
   },
   "id": "d8d4eaeca592c7d9"
  },
  {
   "cell_type": "code",
   "execution_count": 9,
   "outputs": [],
   "source": [
    "import ctypes\n",
    "import numpy as np\n",
    "import time\n",
    "\n",
    "\n",
    "def run_ctypes_matrix_multiply(n):\n",
    "    lib = ctypes.CDLL('./matrix_operations.so')\n",
    "    \n",
    "    matrix_multiply = lib.matrix_multiply\n",
    "    matrix_multiply.argtypes = [ctypes.POINTER(ctypes.c_double), ctypes.POINTER(ctypes.c_double), ctypes.c_int, ctypes.POINTER(ctypes.c_double)]\n",
    "    matrix_multiply.restype = None\n",
    "    \n",
    "    A = np.random.rand(n, n)\n",
    "    B = np.random.rand(n, n)\n",
    "    \n",
    "    C = np.empty((n, n), dtype=np.double)\n",
    "    matrix_multiply(A.ctypes.data_as(ctypes.POINTER(ctypes.c_double)),\n",
    "                    B.ctypes.data_as(ctypes.POINTER(ctypes.c_double)),\n",
    "                    ctypes.c_int(n),\n",
    "                    C.ctypes.data_as(ctypes.POINTER(ctypes.c_double)))\n",
    "    \n",
    "    return C\n",
    "    \n",
    "\n",
    "def run_ctypes_matrix_vector_multiply(n):\n",
    "    lib = ctypes.CDLL('./matrix_operations.so')\n",
    "    \n",
    "    matrix_vector_multiply = lib.matrix_vector_multiply\n",
    "    matrix_vector_multiply.argtypes = [ctypes.POINTER(ctypes.c_double), ctypes.POINTER(ctypes.c_double), ctypes.c_int, ctypes.POINTER(ctypes.c_double)]\n",
    "    matrix_vector_multiply.restype = None\n",
    "    \n",
    "    A = np.ones((n, n), dtype=np.double)\n",
    "    x = np.full(n, 2.0, dtype=np.double)\n",
    "    y = np.empty(n, dtype=np.double)\n",
    "    \n",
    "    matrix_vector_multiply(A.ctypes.data_as(ctypes.POINTER(ctypes.c_double)),\n",
    "                      x.ctypes.data_as(ctypes.POINTER(ctypes.c_double)),\n",
    "                      ctypes.c_int(n),\n",
    "                      y.ctypes.data_as(ctypes.POINTER(ctypes.c_double)))\n",
    "    \n",
    "    return y\n",
    "    \n",
    "\n",
    "programs = {\n",
    "    'Умножение матриц (Ctypes)': run_ctypes_matrix_multiply,\n",
    "    'Умножение матрицы на вектор (Ctypes)': run_ctypes_matrix_vector_multiply,\n",
    "}\n",
    "\n",
    "res_ctypes = pd.DataFrame(index=programs.keys())\n",
    "for experiment_name, func in programs.items():\n",
    "    n_repeat = 5\n",
    "    for n_element in n_elements + [2048]:\n",
    "        sum_time = 0\n",
    "        for i_repeat in range(n_repeat):\n",
    "            start = time.perf_counter()\n",
    "            func(n_element)\n",
    "            end = time.perf_counter()\n",
    "            sum_time += end - start\n",
    "        res_ctypes.loc[experiment_name, n_element] = sum_time / n_repeat"
   ],
   "metadata": {
    "collapsed": false,
    "ExecuteTime": {
     "end_time": "2024-10-21T07:25:57.098794Z",
     "start_time": "2024-10-21T07:23:15.104840Z"
    }
   },
   "id": "b29b87eb6b807d65"
  },
  {
   "cell_type": "markdown",
   "source": [
    "Проверим корректность вычисления:"
   ],
   "metadata": {
    "collapsed": false
   },
   "id": "18e895c6531fcefe"
  },
  {
   "cell_type": "code",
   "execution_count": 10,
   "outputs": [
    {
     "data": {
      "text/plain": "array([[7., 5.],\n       [9., 7.]])"
     },
     "execution_count": 10,
     "metadata": {},
     "output_type": "execute_result"
    }
   ],
   "source": [
    "lib = ctypes.CDLL('./matrix_operations.so')\n",
    "    \n",
    "matrix_multiply = lib.matrix_multiply\n",
    "matrix_multiply.argtypes = [ctypes.POINTER(ctypes.c_double), ctypes.POINTER(ctypes.c_double), ctypes.c_int, ctypes.POINTER(ctypes.c_double)]\n",
    "matrix_multiply.restype = None\n",
    "\n",
    "A = np.array([[1, 2], \n",
    "              [3, 2]], dtype=np.double)\n",
    "B = np.array([[1, 1], \n",
    "              [3, 2]], dtype=np.double)\n",
    "\n",
    "C = np.empty((2, 2), dtype=np.double)\n",
    "matrix_multiply(A.ctypes.data_as(ctypes.POINTER(ctypes.c_double)),\n",
    "                B.ctypes.data_as(ctypes.POINTER(ctypes.c_double)),\n",
    "                ctypes.c_int(2),\n",
    "                C.ctypes.data_as(ctypes.POINTER(ctypes.c_double)))\n",
    "\n",
    "C"
   ],
   "metadata": {
    "collapsed": false,
    "ExecuteTime": {
     "end_time": "2024-10-21T07:25:57.106144Z",
     "start_time": "2024-10-21T07:25:57.102813Z"
    }
   },
   "id": "4589b967877fe433"
  },
  {
   "cell_type": "markdown",
   "source": [
    "Вычисление проходит корректно."
   ],
   "metadata": {
    "collapsed": false
   },
   "id": "d84c3c939ac17dc8"
  },
  {
   "cell_type": "markdown",
   "source": [
    "# Результаты в сравнении"
   ],
   "metadata": {
    "collapsed": false
   },
   "id": "a2bd8916eb29dff4"
  },
  {
   "cell_type": "code",
   "execution_count": 13,
   "outputs": [
    {
     "data": {
      "text/plain": "                                          64        128       256       512   \\\nУмножение матриц (-g)                 0.005413  0.013333  0.079339  0.607887   \nУмножение матриц (-O3)                0.004153  0.005167  0.023636  0.197036   \nУмножение матрицы на вектор (-g)      0.004011  0.002818  0.003560  0.004528   \nУмножение матрицы на вектор (-O3)     0.003551  0.002710  0.003362  0.003546   \nУмножение матриц (Ctypes)             0.054663  0.002489  0.021480  0.204413   \nУмножение матрицы на вектор (Ctypes)  0.000112  0.000203  0.000128  0.000577   \n\n                                          1024       2048  \nУмножение матриц (-g)                 5.653850        NaN  \nУмножение матриц (-O3)                1.756253        NaN  \nУмножение матрицы на вектор (-g)      0.009585        NaN  \nУмножение матрицы на вектор (-O3)     0.005921        NaN  \nУмножение матриц (Ctypes)             1.859328  30.296079  \nУмножение матрицы на вектор (Ctypes)  0.002303   0.010021  ",
      "text/html": "<div>\n<style scoped>\n    .dataframe tbody tr th:only-of-type {\n        vertical-align: middle;\n    }\n\n    .dataframe tbody tr th {\n        vertical-align: top;\n    }\n\n    .dataframe thead th {\n        text-align: right;\n    }\n</style>\n<table border=\"1\" class=\"dataframe\">\n  <thead>\n    <tr style=\"text-align: right;\">\n      <th></th>\n      <th>64</th>\n      <th>128</th>\n      <th>256</th>\n      <th>512</th>\n      <th>1024</th>\n      <th>2048</th>\n    </tr>\n  </thead>\n  <tbody>\n    <tr>\n      <th>Умножение матриц (-g)</th>\n      <td>0.005413</td>\n      <td>0.013333</td>\n      <td>0.079339</td>\n      <td>0.607887</td>\n      <td>5.653850</td>\n      <td>NaN</td>\n    </tr>\n    <tr>\n      <th>Умножение матриц (-O3)</th>\n      <td>0.004153</td>\n      <td>0.005167</td>\n      <td>0.023636</td>\n      <td>0.197036</td>\n      <td>1.756253</td>\n      <td>NaN</td>\n    </tr>\n    <tr>\n      <th>Умножение матрицы на вектор (-g)</th>\n      <td>0.004011</td>\n      <td>0.002818</td>\n      <td>0.003560</td>\n      <td>0.004528</td>\n      <td>0.009585</td>\n      <td>NaN</td>\n    </tr>\n    <tr>\n      <th>Умножение матрицы на вектор (-O3)</th>\n      <td>0.003551</td>\n      <td>0.002710</td>\n      <td>0.003362</td>\n      <td>0.003546</td>\n      <td>0.005921</td>\n      <td>NaN</td>\n    </tr>\n    <tr>\n      <th>Умножение матриц (Ctypes)</th>\n      <td>0.054663</td>\n      <td>0.002489</td>\n      <td>0.021480</td>\n      <td>0.204413</td>\n      <td>1.859328</td>\n      <td>30.296079</td>\n    </tr>\n    <tr>\n      <th>Умножение матрицы на вектор (Ctypes)</th>\n      <td>0.000112</td>\n      <td>0.000203</td>\n      <td>0.000128</td>\n      <td>0.000577</td>\n      <td>0.002303</td>\n      <td>0.010021</td>\n    </tr>\n  </tbody>\n</table>\n</div>"
     },
     "execution_count": 13,
     "metadata": {},
     "output_type": "execute_result"
    }
   ],
   "source": [
    "pd.concat([res_c, res_ctypes])"
   ],
   "metadata": {
    "collapsed": false,
    "ExecuteTime": {
     "end_time": "2024-10-21T07:31:08.317515Z",
     "start_time": "2024-10-21T07:31:08.310287Z"
    }
   },
   "id": "c9504b04730d95ae"
  },
  {
   "cell_type": "code",
   "execution_count": 7,
   "outputs": [
    {
     "data": {
      "text/plain": "                                          64        128       256       512   \\\nУмножение матриц (-g)                 0.436641  0.049266  0.246818  1.871151   \nУмножение матриц (-O3)                0.191084  0.018367  0.076522  0.605391   \nУмножение матрицы на вектор (-g)      0.206288  0.011110  0.011465  0.015858   \nУмножение матрицы на вектор (-O3)     0.273246  0.011456  0.011290  0.011774   \nУмножение матриц (Ctypes)             0.055312  0.004103  0.021261  0.154889   \nУмножение матрицы на вектор (Ctypes)  0.000073  0.000126  0.000122  0.000450   \n\n                                           1024       2048  \nУмножение матриц (-g)                 18.098031        NaN  \nУмножение матриц (-O3)                 5.811974        NaN  \nУмножение матрицы на вектор (-g)       0.035111        NaN  \nУмножение матрицы на вектор (-O3)      0.024650        NaN  \nУмножение матриц (Ctypes)              1.449117  27.274883  \nУмножение матрицы на вектор (Ctypes)   0.001858   0.008314  ",
      "text/html": "<div>\n<style scoped>\n    .dataframe tbody tr th:only-of-type {\n        vertical-align: middle;\n    }\n\n    .dataframe tbody tr th {\n        vertical-align: top;\n    }\n\n    .dataframe thead th {\n        text-align: right;\n    }\n</style>\n<table border=\"1\" class=\"dataframe\">\n  <thead>\n    <tr style=\"text-align: right;\">\n      <th></th>\n      <th>64</th>\n      <th>128</th>\n      <th>256</th>\n      <th>512</th>\n      <th>1024</th>\n      <th>2048</th>\n    </tr>\n  </thead>\n  <tbody>\n    <tr>\n      <th>Умножение матриц (-g)</th>\n      <td>0.436641</td>\n      <td>0.049266</td>\n      <td>0.246818</td>\n      <td>1.871151</td>\n      <td>18.098031</td>\n      <td>NaN</td>\n    </tr>\n    <tr>\n      <th>Умножение матриц (-O3)</th>\n      <td>0.191084</td>\n      <td>0.018367</td>\n      <td>0.076522</td>\n      <td>0.605391</td>\n      <td>5.811974</td>\n      <td>NaN</td>\n    </tr>\n    <tr>\n      <th>Умножение матрицы на вектор (-g)</th>\n      <td>0.206288</td>\n      <td>0.011110</td>\n      <td>0.011465</td>\n      <td>0.015858</td>\n      <td>0.035111</td>\n      <td>NaN</td>\n    </tr>\n    <tr>\n      <th>Умножение матрицы на вектор (-O3)</th>\n      <td>0.273246</td>\n      <td>0.011456</td>\n      <td>0.011290</td>\n      <td>0.011774</td>\n      <td>0.024650</td>\n      <td>NaN</td>\n    </tr>\n    <tr>\n      <th>Умножение матриц (Ctypes)</th>\n      <td>0.055312</td>\n      <td>0.004103</td>\n      <td>0.021261</td>\n      <td>0.154889</td>\n      <td>1.449117</td>\n      <td>27.274883</td>\n    </tr>\n    <tr>\n      <th>Умножение матрицы на вектор (Ctypes)</th>\n      <td>0.000073</td>\n      <td>0.000126</td>\n      <td>0.000122</td>\n      <td>0.000450</td>\n      <td>0.001858</td>\n      <td>0.008314</td>\n    </tr>\n  </tbody>\n</table>\n</div>"
     },
     "execution_count": 7,
     "metadata": {},
     "output_type": "execute_result"
    }
   ],
   "source": [
    "pd.concat([res_c, res_ctypes])"
   ],
   "metadata": {
    "collapsed": false,
    "ExecuteTime": {
     "end_time": "2024-09-30T07:11:12.228973Z",
     "start_time": "2024-09-30T07:11:12.218515Z"
    }
   },
   "id": "614105a8ceff8469"
  },
  {
   "cell_type": "markdown",
   "source": [
    "На самом деле, меня смущает такое расхождение по времени между Ctypes и версией на С, хотя время прирастает в соответствии со сложностью алгоритмов."
   ],
   "metadata": {
    "collapsed": false
   },
   "id": "fe32441b657f19a2"
  }
 ],
 "metadata": {
  "kernelspec": {
   "display_name": "Python 3 (ipykernel)",
   "language": "python",
   "name": "python3"
  },
  "language_info": {
   "codemirror_mode": {
    "name": "ipython",
    "version": 3
   },
   "file_extension": ".py",
   "mimetype": "text/x-python",
   "name": "python",
   "nbconvert_exporter": "python",
   "pygments_lexer": "ipython3",
   "version": "3.12.4"
  }
 },
 "nbformat": 4,
 "nbformat_minor": 5
}
