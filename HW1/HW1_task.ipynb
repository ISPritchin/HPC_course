{
 "cells": [
  {
   "cell_type": "markdown",
   "id": "fd38da4b-c1a0-435c-b4ef-f53409aa1b55",
   "metadata": {},
   "source": [
    "## Hometask 1 - связь Python с программами на C/C++"
   ]
  },
  {
   "cell_type": "markdown",
   "id": "b732f8c0-2e02-4e65-8e77-393d973d1542",
   "metadata": {},
   "source": [
    "1. Реализовать на языке C/C++ классические операции перемножения квадратных матриц и умножения матрицы на вектор (15%)\n",
    "\n",
    "Решение: см. код в текушей директории:\n",
    "- файл `matrix_operations` - с операциями над матрицами\n",
    "- файлы `main_matrix_multiply`, `main_matrix_vector_multiply` - с `main` функциями для экспериментов."
   ]
  },
  {
   "cell_type": "markdown",
   "id": "f4433714-9fea-4011-b476-133bb0703bdb",
   "metadata": {},
   "source": [
    "2. Разделить программу на несколько модулей и провести сборку через статическую линковку (25%)"
   ]
  },
  {
   "cell_type": "code",
   "execution_count": 2,
   "id": "b563e47a-d118-4508-b8da-9ba28276c86f",
   "metadata": {
    "ExecuteTime": {
     "end_time": "2024-09-30T05:58:45.769059Z",
     "start_time": "2024-09-30T05:58:44.851359Z"
    }
   },
   "outputs": [
    {
     "name": "stdout",
     "output_type": "stream",
     "text": [
      "clang: \u001B[0;1;35mwarning: \u001B[0m\u001B[1mtreating 'c' input as 'c++' when in C++ mode, this behavior is deprecated [-Wdeprecated]\u001B[0m\r\n",
      "clang: \u001B[0;1;35mwarning: \u001B[0m\u001B[1mtreating 'c' input as 'c++' when in C++ mode, this behavior is deprecated [-Wdeprecated]\u001B[0m\r\n",
      "clang: \u001B[0;1;35mwarning: \u001B[0m\u001B[1mtreating 'c' input as 'c++' when in C++ mode, this behavior is deprecated [-Wdeprecated]\u001B[0m\r\n",
      "clang: \u001B[0;1;35mwarning: \u001B[0m\u001B[1mtreating 'c' input as 'c++' when in C++ mode, this behavior is deprecated [-Wdeprecated]\u001B[0m\r\n"
     ]
    }
   ],
   "source": [
    "! g++ -c -g matrix_operations.c\n",
    "! g++ -c -g main_matrix_multiply.c\n",
    "! g++ matrix_operations.o main_matrix_multiply.o -o main_matrix_multiply_program_g\n",
    "\n",
    "! g++ -c -O3 matrix_operations.c\n",
    "! g++ -c -O3 main_matrix_multiply.c\n",
    "! g++ matrix_operations.o main_matrix_multiply.o -o main_matrix_multiply_program_O3"
   ]
  },
  {
   "cell_type": "code",
   "execution_count": 11,
   "outputs": [
    {
     "name": "stdout",
     "output_type": "stream",
     "text": [
      "clang: \u001B[0;1;35mwarning: \u001B[0m\u001B[1mtreating 'c' input as 'c++' when in C++ mode, this behavior is deprecated [-Wdeprecated]\u001B[0m\r\n",
      "clang: \u001B[0;1;35mwarning: \u001B[0m\u001B[1mtreating 'c' input as 'c++' when in C++ mode, this behavior is deprecated [-Wdeprecated]\u001B[0m\r\n",
      "clang: \u001B[0;1;35mwarning: \u001B[0m\u001B[1mtreating 'c' input as 'c++' when in C++ mode, this behavior is deprecated [-Wdeprecated]\u001B[0m\r\n",
      "clang: \u001B[0;1;35mwarning: \u001B[0m\u001B[1mtreating 'c' input as 'c++' when in C++ mode, this behavior is deprecated [-Wdeprecated]\u001B[0m\r\n"
     ]
    }
   ],
   "source": [
    "! g++ -c -g matrix_operations.c\n",
    "! g++ -c -g main_matrix_vector_multiply.c\n",
    "! g++ matrix_operations.o main_matrix_vector_multiply.o -o main_matrix_vector_multiply_program_g\n",
    "\n",
    "! g++ -c -O3 matrix_operations.c\n",
    "! g++ -c -O3 main_matrix_vector_multiply.c\n",
    "! g++ matrix_operations.o main_matrix_vector_multiply.o -o main_matrix_vector_multiply_program_O3"
   ],
   "metadata": {
    "collapsed": false,
    "ExecuteTime": {
     "end_time": "2024-09-30T06:05:14.570161Z",
     "start_time": "2024-09-30T06:05:13.632006Z"
    }
   },
   "id": "823bfb874683e0cc"
  },
  {
   "cell_type": "markdown",
   "id": "2147d411-a7d9-437b-9571-b8bf0247581d",
   "metadata": {},
   "source": [
    "3. Подготовьте две сборки с флагами -g и -O3 и измерьте времена выполнения операций с N = 512, 1024, . . ., 4096 (20%).\n",
    "\n",
    "При данных $N$ машина считает довольно медленно. Уменьшил величины проверяемых значений."
   ]
  },
  {
   "cell_type": "code",
   "execution_count": 13,
   "outputs": [
    {
     "data": {
      "text/plain": "                                       64        128       256       512   \\\nУмножение матриц (-g)              0.030999  0.056164  0.277642  1.867352   \nУмножение матриц (-O3)             0.027012  0.030242  0.090274  0.613639   \nУмножение матрицы на вектор (-g)   0.027510  0.019615  0.021149  0.025896   \nУмножение матрицы на вектор (-O3)  0.025274  0.018695  0.018952  0.020594   \n\n                                        1024        2048  \nУмножение матриц (-g)              17.715019  268.069243  \nУмножение матриц (-O3)              5.561854  106.334143  \nУмножение матрицы на вектор (-g)    0.040983    0.095335  \nУмножение матрицы на вектор (-O3)   0.027104    0.057569  ",
      "text/html": "<div>\n<style scoped>\n    .dataframe tbody tr th:only-of-type {\n        vertical-align: middle;\n    }\n\n    .dataframe tbody tr th {\n        vertical-align: top;\n    }\n\n    .dataframe thead th {\n        text-align: right;\n    }\n</style>\n<table border=\"1\" class=\"dataframe\">\n  <thead>\n    <tr style=\"text-align: right;\">\n      <th></th>\n      <th>64</th>\n      <th>128</th>\n      <th>256</th>\n      <th>512</th>\n      <th>1024</th>\n      <th>2048</th>\n    </tr>\n  </thead>\n  <tbody>\n    <tr>\n      <th>Умножение матриц (-g)</th>\n      <td>0.030999</td>\n      <td>0.056164</td>\n      <td>0.277642</td>\n      <td>1.867352</td>\n      <td>17.715019</td>\n      <td>268.069243</td>\n    </tr>\n    <tr>\n      <th>Умножение матриц (-O3)</th>\n      <td>0.027012</td>\n      <td>0.030242</td>\n      <td>0.090274</td>\n      <td>0.613639</td>\n      <td>5.561854</td>\n      <td>106.334143</td>\n    </tr>\n    <tr>\n      <th>Умножение матрицы на вектор (-g)</th>\n      <td>0.027510</td>\n      <td>0.019615</td>\n      <td>0.021149</td>\n      <td>0.025896</td>\n      <td>0.040983</td>\n      <td>0.095335</td>\n    </tr>\n    <tr>\n      <th>Умножение матрицы на вектор (-O3)</th>\n      <td>0.025274</td>\n      <td>0.018695</td>\n      <td>0.018952</td>\n      <td>0.020594</td>\n      <td>0.027104</td>\n      <td>0.057569</td>\n    </tr>\n  </tbody>\n</table>\n</div>"
     },
     "execution_count": 13,
     "metadata": {},
     "output_type": "execute_result"
    }
   ],
   "source": [
    "import numpy as np\n",
    "import os\n",
    "import pandas as pd\n",
    "import subprocess\n",
    "import timeit\n",
    "\n",
    "from pathlib import Path\n",
    "\n",
    "\n",
    "root = Path(os.getcwd())\n",
    "def run_program(program_name, N):\n",
    "    subprocess.run([str(root / program_name), str(N)])\n",
    "\n",
    "\n",
    "programs = {\n",
    "    'Умножение матриц (-g)': 'main_matrix_multiply_program_g',\n",
    "    'Умножение матриц (-O3)': 'main_matrix_multiply_program_O3',\n",
    "    'Умножение матрицы на вектор (-g)': 'main_matrix_vector_multiply_program_g',\n",
    "    'Умножение матрицы на вектор (-O3)': 'main_matrix_vector_multiply_program_O3',\n",
    "}\n",
    "\n",
    "res_c = pd.DataFrame(index=programs.keys())\n",
    "n_elements = [2**i for i in range(6, 12)]\n",
    "for n_element in n_elements:\n",
    "    res_c[n_element] = np.nan\n",
    "    for experiment_name, program_name in programs.items():\n",
    "        time = timeit.timeit(lambda: run_program(program_name, n_element), number=4)\n",
    "        res_c.loc[experiment_name, n_element] = time\n",
    "        \n",
    "res_c"
   ],
   "metadata": {
    "collapsed": false,
    "ExecuteTime": {
     "end_time": "2024-09-30T06:13:16.388827Z",
     "start_time": "2024-09-30T06:06:35.302149Z"
    }
   },
   "id": "584806ceeccf1622"
  },
  {
   "cell_type": "markdown",
   "id": "7c234d8a-dc1b-48c8-b038-b4c61725cb51",
   "metadata": {},
   "source": [
    "4. Выполните вызов процедуры из Python через Ctypes/Cython/PyBind11 и измерьте времена (40%)"
   ]
  },
  {
   "cell_type": "markdown",
   "source": [
    "Получилось реализовать только Ctypes:"
   ],
   "metadata": {
    "collapsed": false
   },
   "id": "c723b0fba6cf8fa1"
  },
  {
   "cell_type": "code",
   "execution_count": 14,
   "outputs": [],
   "source": [
    "!g++ -O3 -shared matrix_operations.o -o matrix_operations.so"
   ],
   "metadata": {
    "collapsed": false,
    "ExecuteTime": {
     "end_time": "2024-09-30T06:13:48.110485Z",
     "start_time": "2024-09-30T06:13:47.944956Z"
    }
   },
   "id": "d8d4eaeca592c7d9"
  },
  {
   "cell_type": "code",
   "execution_count": 15,
   "outputs": [],
   "source": [
    "import ctypes\n",
    "import numpy as np\n",
    "import time\n",
    "\n",
    "\n",
    "def run_ctypes_matrix_multiply(n):\n",
    "    # Load the shared library\n",
    "    lib = ctypes.CDLL('./matrix_operations.so')\n",
    "    \n",
    "    # Define the function signatures\n",
    "    matrix_multiply = lib.matrix_multiply\n",
    "    matrix_multiply.argtypes = [ctypes.POINTER(ctypes.c_double), ctypes.POINTER(ctypes.c_double), ctypes.c_int, ctypes.POINTER(ctypes.c_double)]\n",
    "    matrix_multiply.restype = None\n",
    "    \n",
    "    A = np.empty((n, n), dtype=np.double)\n",
    "    B = np.empty((n, n), dtype=np.double)\n",
    "    \n",
    "    # Measure execution time of matrix multiplication\n",
    "    C = np.empty((n, n), dtype=np.double)\n",
    "    matrix_multiply(A.ctypes.data_as(ctypes.POINTER(ctypes.c_double)),\n",
    "                    B.ctypes.data_as(ctypes.POINTER(ctypes.c_double)),\n",
    "                    ctypes.c_int(n),\n",
    "                    C.ctypes.data_as(ctypes.POINTER(ctypes.c_double)))\n",
    "    \n",
    "    return C\n",
    "    \n",
    "\n",
    "def run_ctypes_matrix_vector_multiply(n):\n",
    "    # Load the shared library\n",
    "    lib = ctypes.CDLL('./matrix_operations.so')\n",
    "    \n",
    "    # Define the function signatures\n",
    "    matrix_vector_multiply = lib.matrix_vector_multiply\n",
    "    matrix_vector_multiply.argtypes = [ctypes.POINTER(ctypes.c_double), ctypes.POINTER(ctypes.c_double), ctypes.c_int, ctypes.POINTER(ctypes.c_double)]\n",
    "    matrix_vector_multiply.restype = None\n",
    "    \n",
    "    A = np.ones((n, n), dtype=np.double)\n",
    "    x = np.full(n, 2.0, dtype=np.double)\n",
    "    y = np.empty(n, dtype=np.double)\n",
    "    \n",
    "    # Measure execution time of matrix multiplication\n",
    "    matrix_vector_multiply(A.ctypes.data_as(ctypes.POINTER(ctypes.c_double)),\n",
    "                      x.ctypes.data_as(ctypes.POINTER(ctypes.c_double)),\n",
    "                      ctypes.c_int(n),\n",
    "                      y.ctypes.data_as(ctypes.POINTER(ctypes.c_double)))\n",
    "    \n",
    "    return y\n",
    "    \n",
    "\n",
    "programs = {\n",
    "    'Умножение матриц (Ctypes)': run_ctypes_matrix_multiply,\n",
    "    'Умножение матрицы на вектор (Ctypes)': run_ctypes_matrix_vector_multiply,\n",
    "}\n",
    "\n",
    "res_ctypes = pd.DataFrame(index=programs.keys())\n",
    "for experiment_name, func in programs.items():\n",
    "    n_repeat = 5\n",
    "    for n_element in n_elements:\n",
    "        sum_time = 0\n",
    "        for i_repeat in range(n_repeat):\n",
    "            start = time.time()\n",
    "            func(n_element)\n",
    "            end = time.time()\n",
    "            sum_time += end - start\n",
    "        res_ctypes.loc[experiment_name, n_element] = sum_time / n_repeat"
   ],
   "metadata": {
    "collapsed": false,
    "ExecuteTime": {
     "end_time": "2024-09-30T06:16:20.099736Z",
     "start_time": "2024-09-30T06:14:02.210897Z"
    }
   },
   "id": "b29b87eb6b807d65"
  },
  {
   "cell_type": "markdown",
   "source": [
    "Проверим корректность вычисления:"
   ],
   "metadata": {
    "collapsed": false
   },
   "id": "18e895c6531fcefe"
  },
  {
   "cell_type": "code",
   "execution_count": 20,
   "outputs": [
    {
     "data": {
      "text/plain": "array([[ 5.,  5.],\n       [11., 11.]])"
     },
     "execution_count": 20,
     "metadata": {},
     "output_type": "execute_result"
    }
   ],
   "source": [
    "lib = ctypes.CDLL('./matrix_operations.so')\n",
    "    \n",
    "matrix_multiply = lib.matrix_multiply\n",
    "matrix_multiply.argtypes = [ctypes.POINTER(ctypes.c_double), ctypes.POINTER(ctypes.c_double), ctypes.c_int, ctypes.POINTER(ctypes.c_double)]\n",
    "matrix_multiply.restype = None\n",
    "\n",
    "A = np.array([[1, 2], [3, 4]], dtype=np.double)\n",
    "B = np.array([[1, 1], [2, 2]], dtype=np.double)\n",
    "\n",
    "C = np.empty((2, 2), dtype=np.double)\n",
    "matrix_multiply(A.ctypes.data_as(ctypes.POINTER(ctypes.c_double)),\n",
    "                B.ctypes.data_as(ctypes.POINTER(ctypes.c_double)),\n",
    "                ctypes.c_int(2),\n",
    "                C.ctypes.data_as(ctypes.POINTER(ctypes.c_double)))\n",
    "\n",
    "C"
   ],
   "metadata": {
    "collapsed": false,
    "ExecuteTime": {
     "end_time": "2024-09-30T06:22:24.824541Z",
     "start_time": "2024-09-30T06:22:24.752292Z"
    }
   },
   "id": "4589b967877fe433"
  },
  {
   "cell_type": "markdown",
   "source": [
    "# Результаты в сравнении"
   ],
   "metadata": {
    "collapsed": false
   },
   "id": "a2bd8916eb29dff4"
  },
  {
   "cell_type": "code",
   "execution_count": 21,
   "outputs": [
    {
     "data": {
      "text/plain": "                                          64        128       256       512   \\\nУмножение матриц (-g)                 0.030999  0.056164  0.277642  1.867352   \nУмножение матриц (-O3)                0.027012  0.030242  0.090274  0.613639   \nУмножение матрицы на вектор (-g)      0.027510  0.019615  0.021149  0.025896   \nУмножение матрицы на вектор (-O3)     0.025274  0.018695  0.018952  0.020594   \nУмножение матриц (Ctypes)             0.007295  0.001872  0.016440  0.154716   \nУмножение матрицы на вектор (Ctypes)  0.000091  0.000110  0.000100  0.000413   \n\n                                           1024        2048  \nУмножение матриц (-g)                 17.715019  268.069243  \nУмножение матриц (-O3)                 5.561854  106.334143  \nУмножение матрицы на вектор (-g)       0.040983    0.095335  \nУмножение матрицы на вектор (-O3)      0.027104    0.057569  \nУмножение матриц (Ctypes)              1.465752   25.927263  \nУмножение матрицы на вектор (Ctypes)   0.001918    0.008194  ",
      "text/html": "<div>\n<style scoped>\n    .dataframe tbody tr th:only-of-type {\n        vertical-align: middle;\n    }\n\n    .dataframe tbody tr th {\n        vertical-align: top;\n    }\n\n    .dataframe thead th {\n        text-align: right;\n    }\n</style>\n<table border=\"1\" class=\"dataframe\">\n  <thead>\n    <tr style=\"text-align: right;\">\n      <th></th>\n      <th>64</th>\n      <th>128</th>\n      <th>256</th>\n      <th>512</th>\n      <th>1024</th>\n      <th>2048</th>\n    </tr>\n  </thead>\n  <tbody>\n    <tr>\n      <th>Умножение матриц (-g)</th>\n      <td>0.030999</td>\n      <td>0.056164</td>\n      <td>0.277642</td>\n      <td>1.867352</td>\n      <td>17.715019</td>\n      <td>268.069243</td>\n    </tr>\n    <tr>\n      <th>Умножение матриц (-O3)</th>\n      <td>0.027012</td>\n      <td>0.030242</td>\n      <td>0.090274</td>\n      <td>0.613639</td>\n      <td>5.561854</td>\n      <td>106.334143</td>\n    </tr>\n    <tr>\n      <th>Умножение матрицы на вектор (-g)</th>\n      <td>0.027510</td>\n      <td>0.019615</td>\n      <td>0.021149</td>\n      <td>0.025896</td>\n      <td>0.040983</td>\n      <td>0.095335</td>\n    </tr>\n    <tr>\n      <th>Умножение матрицы на вектор (-O3)</th>\n      <td>0.025274</td>\n      <td>0.018695</td>\n      <td>0.018952</td>\n      <td>0.020594</td>\n      <td>0.027104</td>\n      <td>0.057569</td>\n    </tr>\n    <tr>\n      <th>Умножение матриц (Ctypes)</th>\n      <td>0.007295</td>\n      <td>0.001872</td>\n      <td>0.016440</td>\n      <td>0.154716</td>\n      <td>1.465752</td>\n      <td>25.927263</td>\n    </tr>\n    <tr>\n      <th>Умножение матрицы на вектор (Ctypes)</th>\n      <td>0.000091</td>\n      <td>0.000110</td>\n      <td>0.000100</td>\n      <td>0.000413</td>\n      <td>0.001918</td>\n      <td>0.008194</td>\n    </tr>\n  </tbody>\n</table>\n</div>"
     },
     "execution_count": 21,
     "metadata": {},
     "output_type": "execute_result"
    }
   ],
   "source": [
    "pd.concat([res_c, res_ctypes])"
   ],
   "metadata": {
    "collapsed": false,
    "ExecuteTime": {
     "end_time": "2024-09-30T06:23:07.604035Z",
     "start_time": "2024-09-30T06:23:07.595553Z"
    }
   },
   "id": "614105a8ceff8469"
  }
 ],
 "metadata": {
  "kernelspec": {
   "display_name": "Python 3 (ipykernel)",
   "language": "python",
   "name": "python3"
  },
  "language_info": {
   "codemirror_mode": {
    "name": "ipython",
    "version": 3
   },
   "file_extension": ".py",
   "mimetype": "text/x-python",
   "name": "python",
   "nbconvert_exporter": "python",
   "pygments_lexer": "ipython3",
   "version": "3.12.4"
  }
 },
 "nbformat": 4,
 "nbformat_minor": 5
}
